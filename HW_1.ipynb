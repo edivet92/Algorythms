{
 "cells": [
  {
   "cell_type": "markdown",
   "metadata": {},
   "source": [
    "###  1. Подберите скорость обучения (alpha) и количество итераций."
   ]
  },
  {
   "cell_type": "code",
   "execution_count": 3,
   "metadata": {},
   "outputs": [],
   "source": [
    "import numpy as np"
   ]
  },
  {
   "cell_type": "code",
   "execution_count": 8,
   "metadata": {},
   "outputs": [],
   "source": [
    "X = np.array([[1, 1, 1, 1, 1, 1, 1, 1, 1, 1],\n",
    "              [1, 1, 2, 5, 3, 0, 5, 10, 1, 2]])\n",
    "\n",
    "y = [45, 55, 50, 55, 60, 35, 75, 80, 50, 60]"
   ]
  },
  {
   "cell_type": "code",
   "execution_count": 11,
   "metadata": {},
   "outputs": [
    {
     "data": {
      "text/plain": [
       "(2, 10)"
      ]
     },
     "execution_count": 11,
     "metadata": {},
     "output_type": "execute_result"
    }
   ],
   "source": [
    "X.shape"
   ]
  },
  {
   "cell_type": "code",
   "execution_count": 6,
   "metadata": {},
   "outputs": [],
   "source": [
    "def calc_mse(y, y_pred):\n",
    "    err = np.mean((y - y_pred)**2)\n",
    "    return err"
   ]
  },
  {
   "cell_type": "markdown",
   "metadata": {},
   "source": [
    "При скорости обучения 0.05 итерации оказались самые аккуратные, при этом после двухсотой итерации особо перемен не происходит.\n",
    "Среднеквадратичное отклонение составило почти 44, что довольно безумно, как мне кажется, хотя что можно улучшить за исключением исходных данных я не понимаю. "
   ]
  },
  {
   "cell_type": "code",
   "execution_count": 86,
   "metadata": {},
   "outputs": [
    {
     "name": "stdout",
     "output_type": "stream",
     "text": [
      "Number of objects = 10        \n",
      "Number of iterations = 301       \n",
      "Learning rate = 0.05        \n",
      "Initial weights = [1.  0.5] \n",
      "\n",
      "Iteration #0: W_new = [ 6.4  19.35], MSE = 3047.75\n",
      "Iteration #100: W_new = [44.48029701  3.91807354], MSE = 44.14\n",
      "Iteration #200: W_new = [45.050004    3.81476596], MSE = 43.97\n",
      "Iteration #300: W_new = [45.06211734  3.81256939], MSE = 43.97\n"
     ]
    }
   ],
   "source": [
    "n = X.shape[1]\n",
    "n_iter = 301\n",
    "alpha = 5e-2\n",
    "W = np.array([1, 0.5])\n",
    "print(f'Number of objects = {n} \\\n",
    "       \\nNumber of iterations = {n_iter}\\\n",
    "       \\nLearning rate = {alpha} \\\n",
    "       \\nInitial weights = {W} \\n')\n",
    "\n",
    "for i in range(n_iter):\n",
    "    y_pred = np.dot(W, X)\n",
    "    err = calc_mse(y, y_pred)\n",
    "    #for k in range(W.shape[0]):\n",
    "       # W[k] -= alpha * (1/n * 2 * np.sum(X[k] * (y_pred - y)))\n",
    "    W = W - 2 * alpha * np.dot(X, (y_pred - y)) / n #Изменения, не изменившие результат\n",
    "    if i % 100 == 0: # Сделал уменшьение скорости обучение в 10 раз медленнее, \n",
    "                    # что чуть ускорило обучение и незначительно улучшило результат\n",
    "        alpha /= 1.1\n",
    "        print(f'Iteration #{i}: W_new = {W}, MSE = {err:.2f}')"
   ]
  },
  {
   "cell_type": "markdown",
   "metadata": {},
   "source": [
    "### *2. В этом коде мы избавляемся от итераций по весам, но здесь есть ошибка, исправьте её."
   ]
  },
  {
   "cell_type": "code",
   "execution_count": 87,
   "metadata": {},
   "outputs": [
    {
     "name": "stdout",
     "output_type": "stream",
     "text": [
      "Number of objects = 10        \n",
      "Learning rate = 0.01        \n",
      "Initial weights = [1.  0.5] \n",
      "\n",
      "Iteration #0: W_new = [2.08 4.27], MSE = 3047.75\n",
      "Iteration #10: W_new = [ 7.0011236 10.6169007], MSE = 738.65\n",
      "Iteration #20: W_new = [10.3486292  10.10603105], MSE = 622.03\n",
      "Iteration #30: W_new = [13.38789582  9.55618391], MSE = 525.24\n",
      "Iteration #40: W_new = [16.16088505  9.05336203], MSE = 444.66\n",
      "Iteration #50: W_new = [18.69110735  8.59454545], MSE = 377.58\n",
      "Iteration #60: W_new = [20.99981865  8.17589626], MSE = 321.72\n",
      "Iteration #70: W_new = [23.10641138  7.79389815], MSE = 275.22\n",
      "Iteration #80: W_new = [25.02858024  7.44534246], MSE = 236.5\n",
      "Iteration #90: W_new = [26.78247081  7.12730145], MSE = 204.27\n"
     ]
    }
   ],
   "source": [
    "n = X.shape[1]\n",
    "alpha = 1e-2\n",
    "W = np.array([1, 0.5])\n",
    "print(f'Number of objects = {n} \\\n",
    "       \\nLearning rate = {alpha} \\\n",
    "       \\nInitial weights = {W} \\n')\n",
    "\n",
    "for i in range(100):\n",
    "    y_pred = np.dot(W, X)\n",
    "    err = calc_mse(y, y_pred)\n",
    "#     for k in range(W.shape[0]):\n",
    "#         W[k] -= alpha * (1/n * 2 * np.sum(X[k] * (y_pred - y)))\n",
    "#    W -= alpha * (1/n * 2 * np.sum(X * (y_pred - y))) Была сумма, а нужно умножение.\n",
    "    W -= alpha * (1/n * 2 * np.dot(X, (y_pred - y)))\n",
    "#    W_pred = W Эта строчка я не понял зачем нужна\n",
    "    if i % 10 == 0:\n",
    "        print(f'Iteration #{i}: W_new = {W}, MSE = {round(err,2)}')"
   ]
  },
  {
   "cell_type": "markdown",
   "metadata": {},
   "source": [
    "### *3. Вместо того чтобы задавать количество итераций, задайте условие остановки алгоритма, когда ошибка за итерацию начинает изменяться ниже определённого порога — упрощённый аналог параметра tol в линейной регрессии в sklearn."
   ]
  },
  {
   "cell_type": "code",
   "execution_count": 131,
   "metadata": {},
   "outputs": [
    {
     "name": "stdout",
     "output_type": "stream",
     "text": [
      "Number of objects = 10        \n",
      "Learning rate = 0.05        \n",
      "Initial weights = [1.  0.5] \n",
      "\n",
      "Iteration #100: W_new = [44.66702658  3.88421301], MSE = 44.05\n",
      "Iteration #200: W_new = [45.05676671  3.81353964], MSE = 43.97\n"
     ]
    }
   ],
   "source": [
    "n = X.shape[1]\n",
    "alpha = 5e-2\n",
    "W = np.array([1, 0.5])\n",
    "i = 0                                   # счетчик итераций\n",
    "tolerance = np.inf                      # порог отключения цикла\n",
    "print(f'Number of objects = {n} \\\n",
    "       \\nLearning rate = {alpha} \\\n",
    "       \\nInitial weights = {W} \\n')\n",
    "\n",
    "while tolerance > 1e-4:\n",
    "    y_pred = np.dot(W, X)\n",
    "    err = calc_mse(y, y_pred)\n",
    "    new_W = W - alpha * (1/n * 2 * np.dot(X, (y_pred - y)))\n",
    "    tolerance = np.linalg.norm(new_W - W, ord=2) # Вычисляем порог выхода из цикла\n",
    "    W = new_W\n",
    "    i += 1                                       # Накручиваем счетчик\n",
    "    if i % 100 == 0:\n",
    "        alpha /= 1.1\n",
    "        print(f'Iteration #{i}: W_new = {W}, MSE = {err:.2f}')"
   ]
  }
 ],
 "metadata": {
  "kernelspec": {
   "display_name": "Python 3",
   "language": "python",
   "name": "python3"
  },
  "language_info": {
   "codemirror_mode": {
    "name": "ipython",
    "version": 3
   },
   "file_extension": ".py",
   "mimetype": "text/x-python",
   "name": "python",
   "nbconvert_exporter": "python",
   "pygments_lexer": "ipython3",
   "version": "3.7.6"
  }
 },
 "nbformat": 4,
 "nbformat_minor": 4
}
