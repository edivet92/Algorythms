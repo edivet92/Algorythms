{
 "cells": [
  {
   "cell_type": "code",
   "execution_count": 58,
   "metadata": {},
   "outputs": [],
   "source": [
    "import numpy as np\n",
    "import matplotlib.pyplot as plt"
   ]
  },
  {
   "cell_type": "code",
   "execution_count": 59,
   "metadata": {},
   "outputs": [],
   "source": [
    "X = np.array([[1, 1, 1, 1, 1, 1, 1, 1, 1, 1],\n",
    "              [1, 1, 2, 5, 3, 0, 5, 10, 1, 2],\n",
    "              [500, 700, 750, 600, 1450, 800, 1500, 2000, 450, 1000],\n",
    "              [1, 1, 2, 1, 2, 1, 3, 3, 1, 2]])"
   ]
  },
  {
   "cell_type": "code",
   "execution_count": 60,
   "metadata": {},
   "outputs": [],
   "source": [
    "y = [45, 55, 50, 55, 60, 35, 75, 80, 50, 60]"
   ]
  },
  {
   "cell_type": "code",
   "execution_count": 61,
   "metadata": {},
   "outputs": [],
   "source": [
    "def calc_mse(y, y_pred):\n",
    "    err = np.mean((y - y_pred)**2)\n",
    "    return err"
   ]
  },
  {
   "cell_type": "code",
   "execution_count": 62,
   "metadata": {},
   "outputs": [],
   "source": [
    "def calc_std_fit(x):\n",
    "    res = (x - x.mean()) / x.std()\n",
    "    return res"
   ]
  },
  {
   "cell_type": "code",
   "execution_count": 63,
   "metadata": {},
   "outputs": [],
   "source": [
    "def calc_norm_fit(X):\n",
    "    res = (X - X.min()) / (X.max() - X.min())\n",
    "    return res"
   ]
  },
  {
   "cell_type": "code",
   "execution_count": 64,
   "metadata": {},
   "outputs": [],
   "source": [
    "def eval_model_reg2(X, y, iterations, alpha=1e-4, lambda_=1e-8):\n",
    "    np.random.seed(42)\n",
    "    W = np.random.randn(X.shape[0])\n",
    "    n = X.shape[1]\n",
    "    for i in range(1, iterations+1):\n",
    "        y_pred = np.dot(W, X)\n",
    "        err = calc_mse(y, y_pred)\n",
    "        W -= alpha * (1/n * 2 * np.dot((y_pred - y), X.T) + lambda_ * W) \n",
    "#        if i % (iterations / 10) == 0:\n",
    "#            print(i, W, err)\n",
    "    return W"
   ]
  },
  {
   "cell_type": "code",
   "execution_count": 65,
   "metadata": {},
   "outputs": [],
   "source": [
    "X_st = X.copy().astype(np.float64)\n",
    "X_st[1] = calc_std_fit(X[1])\n",
    "X_st[2] = calc_std_fit(X[2])\n",
    "X_st[3] = calc_std_fit(X[3])"
   ]
  },
  {
   "cell_type": "markdown",
   "metadata": {},
   "source": [
    "### Постройте график зависимости весов всех признаков от lambda в L2-регуляризации на основе данных из урока."
   ]
  },
  {
   "cell_type": "code",
   "execution_count": 66,
   "metadata": {},
   "outputs": [],
   "source": [
    "first_list = [1e-12, 1e-10, 1e-8, 1e-6, 1e-4, 1e-2, 1, 10]\n",
    "second_list = []"
   ]
  },
  {
   "cell_type": "code",
   "execution_count": 67,
   "metadata": {},
   "outputs": [],
   "source": [
    "for z in first_list:\n",
    "    W = eval_model_reg2(X_st, y, iterations=2000, alpha=1e-2, lambda_=z)\n",
    "    second_list.append(np.linalg.norm(W))"
   ]
  },
  {
   "cell_type": "code",
   "execution_count": 68,
   "metadata": {},
   "outputs": [
    {
     "data": {
      "image/png": "[encoded data removed]",
      "text/plain": [
       "<Figure size 432x288 with 1 Axes>"
      ]
     },
     "metadata": {
      "needs_background": "light"
     },
     "output_type": "display_data"
    }
   ],
   "source": [
    "plt.plot(first_list, second_list)\n",
    "plt.show()"
   ]
  },
  {
   "cell_type": "markdown",
   "metadata": {},
   "source": [
    "### Можно ли к одному и тому же признаку применить сразу и нормализацию, и стандартизацию?"
   ]
  },
  {
   "cell_type": "code",
   "execution_count": 69,
   "metadata": {},
   "outputs": [],
   "source": [
    "xx = X[3].copy().astype(np.float64)"
   ]
  },
  {
   "cell_type": "code",
   "execution_count": 70,
   "metadata": {},
   "outputs": [
    {
     "data": {
      "text/plain": [
       "array([1., 1., 2., 1., 2., 1., 3., 3., 1., 2.])"
      ]
     },
     "execution_count": 70,
     "metadata": {},
     "output_type": "execute_result"
    }
   ],
   "source": [
    "xx"
   ]
  },
  {
   "cell_type": "code",
   "execution_count": 71,
   "metadata": {},
   "outputs": [
    {
     "name": "stdout",
     "output_type": "stream",
     "text": [
      "Нормализация\n",
      "Было: [1. 1. 2. 1. 2. 1. 3. 3. 1. 2.]\n",
      "Стало: [0.  0.  0.5 0.  0.5 0.  1.  1.  0.  0.5]\n"
     ]
    }
   ],
   "source": [
    "norm = calc_norm_fit(xx)\n",
    "print(f'Нормализация\\nБыло: {xx}\\nСтало: {norm}')\n"
   ]
  },
  {
   "cell_type": "code",
   "execution_count": 72,
   "metadata": {},
   "outputs": [
    {
     "name": "stdout",
     "output_type": "stream",
     "text": [
      "Стандартизация\n",
      "Было: [1. 1. 2. 1. 2. 1. 3. 3. 1. 2.]\n",
      "Стало: [-0.89625816 -0.89625816  0.38411064 -0.89625816  0.38411064 -0.89625816\n",
      "  1.66447944  1.66447944 -0.89625816  0.38411064]\n"
     ]
    }
   ],
   "source": [
    "stand = calc_std_fit(xx)\n",
    "print(f'Стандартизация\\nБыло: {xx}\\nСтало: {stand}')"
   ]
  },
  {
   "cell_type": "code",
   "execution_count": 73,
   "metadata": {},
   "outputs": [],
   "source": [
    "norm_stand = calc_std_fit(norm)\n",
    "stand_norm = calc_norm_fit(stand)"
   ]
  },
  {
   "cell_type": "code",
   "execution_count": 74,
   "metadata": {},
   "outputs": [
    {
     "name": "stdout",
     "output_type": "stream",
     "text": [
      "Стандартизация после нормализации:\n",
      "[-0.89625816 -0.89625816  0.38411064 -0.89625816  0.38411064 -0.89625816\n",
      "  1.66447944  1.66447944 -0.89625816  0.38411064]\n"
     ]
    }
   ],
   "source": [
    "print(f'Стандартизация после нормализации:\\n{norm_stand}')"
   ]
  },
  {
   "cell_type": "code",
   "execution_count": 75,
   "metadata": {},
   "outputs": [
    {
     "name": "stdout",
     "output_type": "stream",
     "text": [
      "Нормализация после стандартизации:\n",
      "[0.  0.  0.5 0.  0.5 0.  1.  1.  0.  0.5]\n"
     ]
    }
   ],
   "source": [
    "print(f'Нормализация после стандартизации:\\n{stand_norm}')"
   ]
  },
  {
   "cell_type": "code",
   "execution_count": 76,
   "metadata": {},
   "outputs": [
    {
     "name": "stdout",
     "output_type": "stream",
     "text": [
      "[ True  True  True  True  True  True  True  True  True  True]\n",
      "[ True  True  True  True  True  True  True  True  True  True]\n"
     ]
    }
   ],
   "source": [
    "print(norm == stand_norm, stand == norm_stand, sep='\\n')"
   ]
  },
  {
   "cell_type": "markdown",
   "metadata": {},
   "source": [
    "Ответ: одновременно стандартизацию и нормализацию к одному признаку конечно можно применять, но смысла в этом никакого нет, что показано в примерах выше."
   ]
  },
  {
   "cell_type": "markdown",
   "metadata": {},
   "source": [
    "### Напишите функцию наподобие eval_model_reg2, но для применения L1-регуляризации"
   ]
  },
  {
   "cell_type": "code",
   "execution_count": 77,
   "metadata": {},
   "outputs": [],
   "source": [
    "def eval_model_reg1(X, y, iterations, alpha=1e-4, lambda_=1e-8):\n",
    "    np.random.seed(42)\n",
    "    W = np.random.randn(X.shape[0])\n",
    "    n = X.shape[1]\n",
    "    for i in range(0, iterations):\n",
    "        y_pred = np.dot(W, X)\n",
    "        err = calc_mse(y, y_pred)\n",
    "        \n",
    "        dQ = 2/n * X @ (y_pred - y) # градиент ф-ции ошибки\n",
    "        dReg = lambda_/2 * np.abs(W) # градиент регуляции\n",
    "        W -= alpha * (dQ + dReg) \n",
    "        if i % (iterations / 10) == 0:\n",
    "            print(i, W, err)\n",
    "    return W"
   ]
  },
  {
   "cell_type": "code",
   "execution_count": 78,
   "metadata": {},
   "outputs": [],
   "source": [
    "W2 = eval_model_reg2(X_st, y, iterations=5000, alpha=1e-2, lambda_=1e-4)"
   ]
  },
  {
   "cell_type": "code",
   "execution_count": 79,
   "metadata": {},
   "outputs": [
    {
     "name": "stdout",
     "output_type": "stream",
     "text": [
      "0 [1.61677962 0.04795293 0.81856369 1.6994097 ] 3257.191050140549\n",
      "500 [56.49633664  5.90096109  1.03725555  5.52915239] 25.235981891864256\n",
      "1000 [56.49858744  6.19555189  0.13401005  6.17226644] 24.946801429787\n",
      "1500 [56.49858754  6.26607478 -0.17989364  6.42611562] 24.910119759380276\n",
      "2000 [56.49858754  6.28964674 -0.292314    6.51863252] 24.905346398553085\n",
      "2500 [56.49858754  6.29803895 -0.33275128  6.55199305] 24.904719666967104\n",
      "3000 [56.49858754  6.30105504 -0.34730543  6.56400437] 24.90463548803329\n",
      "3500 [56.49858754  6.30214045 -0.35254421  6.56832806] 24.904623510420528\n",
      "4000 [56.49858754  6.30253114 -0.35442993  6.56988441] 24.904621573098066\n",
      "4500 [56.49858754  6.30267177 -0.35510871  6.57044463] 24.90462118335409\n"
     ]
    }
   ],
   "source": [
    "W1 = eval_model_reg1(X_st, y, iterations=5000, alpha=1e-2, lambda_=1e-4)"
   ]
  },
  {
   "cell_type": "code",
   "execution_count": 80,
   "metadata": {},
   "outputs": [
    {
     "data": {
      "text/plain": [
       "array([56.49717514,  6.30231751, -0.35424091,  6.56978425])"
      ]
     },
     "execution_count": 80,
     "metadata": {},
     "output_type": "execute_result"
    }
   ],
   "source": [
    "W2"
   ]
  },
  {
   "cell_type": "code",
   "execution_count": 81,
   "metadata": {},
   "outputs": [
    {
     "data": {
      "text/plain": [
       "array([56.49858754,  6.30272233, -0.35535276,  6.57064605])"
      ]
     },
     "execution_count": 81,
     "metadata": {},
     "output_type": "execute_result"
    }
   ],
   "source": [
    "W1"
   ]
  }
 ],
 "metadata": {
  "kernelspec": {
   "display_name": "Python 3",
   "language": "python",
   "name": "python3"
  },
  "language_info": {
   "codemirror_mode": {
    "name": "ipython",
    "version": 3
   },
   "file_extension": ".py",
   "mimetype": "text/x-python",
   "name": "python",
   "nbconvert_exporter": "python",
   "pygments_lexer": "ipython3",
   "version": "3.7.6"
  }
 },
 "nbformat": 4,
 "nbformat_minor": 4
}
